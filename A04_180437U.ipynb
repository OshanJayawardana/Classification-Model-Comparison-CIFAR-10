{
 "metadata": {
  "language_info": {
   "codemirror_mode": {
    "name": "ipython",
    "version": 3
   },
   "file_extension": ".py",
   "mimetype": "text/x-python",
   "name": "python",
   "nbconvert_exporter": "python",
   "pygments_lexer": "ipython3",
   "version": "3.8.8-final"
  },
  "orig_nbformat": 2,
  "kernelspec": {
   "name": "python3",
   "display_name": "Python 3.8.8 64-bit",
   "metadata": {
    "interpreter": {
     "hash": "c0a4a38a26227b4195c19b73ceaaa36ecf000b920c1df7e74e9db74cfbdd1517"
    }
   }
  }
 },
 "nbformat": 4,
 "nbformat_minor": 2,
 "cells": [
  {
   "cell_type": "code",
   "execution_count": 1,
   "metadata": {},
   "outputs": [],
   "source": [
    "import tensorflow as tf\n",
    "from tensorflow import keras\n",
    "import numpy as np\n",
    "import matplotlib.pyplot as plt"
   ]
  },
  {
   "cell_type": "code",
   "execution_count": 11,
   "metadata": {},
   "outputs": [],
   "source": [
    "def regloss(y_pred,y,w1,w2=0):\n",
    "    batch_size=y_pred.shape[0]\n",
    "    K=y_pred.shape[1]\n",
    "    loss=(1/(batch_size))*(np.square(y-y_pred)).sum()+reg*(np.sum(w1*w1)+np.sum(w2*w2))\n",
    "    return loss"
   ]
  },
  {
   "cell_type": "code",
   "execution_count": 3,
   "metadata": {},
   "outputs": [],
   "source": [
    "def accuracy(y_pred,y):\n",
    "    batch_size=y_pred.shape[0]\n",
    "    K=y_pred.shape[1]\n",
    "    acc=1-(1/(batch_size*K))*(np.abs(np.argmax(y,axis=1)-np.argmax(y_pred,axis=1))).sum()\n",
    "    return acc"
   ]
  },
  {
   "cell_type": "code",
   "execution_count": 4,
   "metadata": {},
   "outputs": [
    {
     "output_type": "stream",
     "name": "stdout",
     "text": [
      "x_train: (50000, 3072)\nx_test: (10000, 3072)\ny_train: (50000, 10)\ny_test: (10000, 10)\n"
     ]
    }
   ],
   "source": [
    "(x_train, y_train), (x_test, y_test) = keras.datasets.cifar10.load_data()\n",
    "\n",
    "K = len(np.unique(y_train)) # Classes #np.unique Find the unique elements of an array.\n",
    "Ntr = x_train.shape[0]\n",
    "Nte = x_test.shape[0]\n",
    "Din = x_train.shape[1]*x_train.shape[2]*x_train.shape[3] # CIFAR10\n",
    "\n",
    "# Normalize pixel values\n",
    "x_train, x_test = x_train / 255.0, x_test / 255.0\n",
    "mean_image = np.mean(x_train, axis=0)\n",
    "x_train = x_train - mean_image\n",
    "x_test = x_test - mean_image\n",
    "\n",
    "y_train = tf.keras.utils.to_categorical(y_train, num_classes=K)\n",
    "y_test = tf.keras.utils.to_categorical(y_test, num_classes=K)\n",
    "\n",
    "x_train = np.reshape(x_train,(Ntr,Din))\n",
    "x_test = np.reshape(x_test,(Nte,Din))\n",
    "x_train = x_train.astype('float32')\n",
    "x_test = x_test.astype('float32')\n",
    "print('x_train:', x_train.shape)\n",
    "print('x_test:', x_test.shape)\n",
    "print('y_train:', y_train.shape)\n",
    "print('y_test:', y_test.shape)"
   ]
  },
  {
   "source": [
    "# Linear Classifier"
   ],
   "cell_type": "markdown",
   "metadata": {}
  },
  {
   "cell_type": "code",
   "execution_count": 9,
   "metadata": {},
   "outputs": [],
   "source": [
    "def linclas(x_train,y_train,x_test,y_test,K,Din,lr,lr_decay,reg):\n",
    "    Ntr = x_train.shape[0]\n",
    "    Nte = x_test.shape[0]\n",
    "\n",
    "    loss_history = []\n",
    "    train_acc_history = []\n",
    "    val_acc_history = []\n",
    "    seed = 0\n",
    "    rng = np.random.default_rng(seed=seed)\n",
    "\n",
    "    std=1e-5\n",
    "    w1 = std*np.random.randn(Din, K)\n",
    "    b1 = np.zeros(K)\n",
    "\n",
    "    for t in range(iterations):\n",
    "        indices = np.arange(Ntr)\n",
    "        rng.shuffle(indices)\n",
    "        x=x_train[indices]\n",
    "        y=y_train[indices]\n",
    "\n",
    "        #forward pass\n",
    "        y_pred=x.dot(w1)+b1\n",
    "        y_pred_test=x_test.dot(w1)+b1\n",
    "        train_loss=regloss(y_pred,y,w1)\n",
    "        test_loss=regloss(y_pred_test,y_test,w1)\n",
    "        #loss=(1/batch_size)*np.sum(np.square(y_train-y_pred),axis=0)+reg*np.sum(w1*w1)\n",
    "        loss_history.append(train_loss)\n",
    "        \n",
    "        train_acc=accuracy(y_pred,y)\n",
    "        train_acc_history.append(train_acc)\n",
    "        test_acc=accuracy(y_pred_test,y_test)\n",
    "        val_acc_history.append(test_acc)\n",
    "\n",
    "        if t%10 == 0:\n",
    "            print('epoch %d/%d: MSloss= %f-- ,test loss= %f--,train accracy= %f--, test accracy= %f' % (t,iterations,train_loss,test_loss,train_acc,test_acc))\n",
    "\n",
    "        # Backward pass\n",
    "        dy_pred=(1./batch_size)*2.0*(y_pred-y)\n",
    "        dw1=x.T.dot(dy_pred)+reg*w1\n",
    "        db1=dy_pred.sum(axis=0)\n",
    "        w1-=lr*dw1\n",
    "        b1-=lr*db1\n",
    "        lr*=lr_decay\n",
    "    return w1,b1,loss_history,train_acc_history,val_acc_history"
   ]
  },
  {
   "cell_type": "code",
   "execution_count": 12,
   "metadata": {},
   "outputs": [
    {
     "output_type": "stream",
     "name": "stdout",
     "text": [
      "epoch 0/300: MSloss= 0.999996-- ,test loss= 0.999996--,train accracy= 0.676476--, test accracy= 0.677610\n",
      "epoch 10/300: MSloss= 0.876633-- ,test loss= 0.876233--,train accracy= 0.756502--, test accracy= 0.758120\n",
      "epoch 20/300: MSloss= 0.842538-- ,test loss= 0.842415--,train accracy= 0.762610--, test accracy= 0.767630\n",
      "epoch 30/300: MSloss= 0.823614-- ,test loss= 0.823713--,train accracy= 0.766438--, test accracy= 0.770600\n",
      "epoch 40/300: MSloss= 0.812387-- ,test loss= 0.812706--,train accracy= 0.768626--, test accracy= 0.771580\n",
      "epoch 50/300: MSloss= 0.805425-- ,test loss= 0.805969--,train accracy= 0.770338--, test accracy= 0.772900\n",
      "epoch 60/300: MSloss= 0.800904-- ,test loss= 0.801678--,train accracy= 0.771564--, test accracy= 0.773290\n",
      "epoch 70/300: MSloss= 0.797820-- ,test loss= 0.798823--,train accracy= 0.772736--, test accracy= 0.773690\n",
      "epoch 80/300: MSloss= 0.795604-- ,test loss= 0.796833--,train accracy= 0.773762--, test accracy= 0.774240\n",
      "epoch 90/300: MSloss= 0.793929-- ,test loss= 0.795380--,train accracy= 0.774410--, test accracy= 0.774130\n",
      "epoch 100/300: MSloss= 0.792604-- ,test loss= 0.794269--,train accracy= 0.774980--, test accracy= 0.773720\n",
      "epoch 110/300: MSloss= 0.791514-- ,test loss= 0.793387--,train accracy= 0.775292--, test accracy= 0.773570\n",
      "epoch 120/300: MSloss= 0.790589-- ,test loss= 0.792662--,train accracy= 0.776104--, test accracy= 0.773100\n",
      "epoch 130/300: MSloss= 0.789785-- ,test loss= 0.792050--,train accracy= 0.776620--, test accracy= 0.773590\n",
      "epoch 140/300: MSloss= 0.789072-- ,test loss= 0.791524--,train accracy= 0.776988--, test accracy= 0.773570\n",
      "epoch 150/300: MSloss= 0.788432-- ,test loss= 0.791062--,train accracy= 0.777230--, test accracy= 0.773520\n",
      "epoch 160/300: MSloss= 0.787850-- ,test loss= 0.790654--,train accracy= 0.777312--, test accracy= 0.773790\n",
      "epoch 170/300: MSloss= 0.787318-- ,test loss= 0.790288--,train accracy= 0.777748--, test accracy= 0.773590\n",
      "epoch 180/300: MSloss= 0.786828-- ,test loss= 0.789959--,train accracy= 0.778010--, test accracy= 0.773600\n",
      "epoch 190/300: MSloss= 0.786374-- ,test loss= 0.789661--,train accracy= 0.778310--, test accracy= 0.773280\n",
      "epoch 200/300: MSloss= 0.785951-- ,test loss= 0.789389--,train accracy= 0.778582--, test accracy= 0.773300\n",
      "epoch 210/300: MSloss= 0.785557-- ,test loss= 0.789141--,train accracy= 0.778672--, test accracy= 0.773610\n",
      "epoch 220/300: MSloss= 0.785187-- ,test loss= 0.788913--,train accracy= 0.778856--, test accracy= 0.773860\n",
      "epoch 230/300: MSloss= 0.784839-- ,test loss= 0.788703--,train accracy= 0.778966--, test accracy= 0.773640\n",
      "epoch 240/300: MSloss= 0.784512-- ,test loss= 0.788509--,train accracy= 0.779258--, test accracy= 0.773760\n",
      "epoch 250/300: MSloss= 0.784203-- ,test loss= 0.788330--,train accracy= 0.779418--, test accracy= 0.774210\n",
      "epoch 260/300: MSloss= 0.783910-- ,test loss= 0.788163--,train accracy= 0.779560--, test accracy= 0.773990\n",
      "epoch 270/300: MSloss= 0.783632-- ,test loss= 0.788009--,train accracy= 0.779680--, test accracy= 0.774120\n",
      "epoch 280/300: MSloss= 0.783368-- ,test loss= 0.787865--,train accracy= 0.779758--, test accracy= 0.774320\n",
      "epoch 290/300: MSloss= 0.783117-- ,test loss= 0.787730--,train accracy= 0.779962--, test accracy= 0.774040\n"
     ]
    }
   ],
   "source": [
    "batch_size = Ntr\n",
    "iterations = 300\n",
    "lr = 1.4e-2\n",
    "lr_decay= 0.999\n",
    "reg = 5e-6 #lamda\n",
    "w1,b1,loss_history,train_acc_history,val_acc_history=linclas(x_train,y_train,x_test,y_test,K,Din,lr,lr_decay,reg)"
   ]
  },
  {
   "cell_type": "code",
   "execution_count": 13,
   "metadata": {},
   "outputs": [
    {
     "output_type": "execute_result",
     "data": {
      "text/plain": [
       "[<matplotlib.lines.Line2D at 0x25a5d027a60>]"
      ]
     },
     "metadata": {},
     "execution_count": 13
    },
    {
     "output_type": "display_data",
     "data": {
      "text/plain": "<Figure size 432x288 with 1 Axes>",
      "image/png": "[encoded data removed]"
     },
     "metadata": {
      "needs_background": "light"
     }
    }
   ],
   "source": [
    "x_axis=np.arange(len(loss_history))\n",
    "plt.plot(x_axis,loss_history)"
   ]
  }
 ]
}